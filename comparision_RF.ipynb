{
 "cells": [
  {
   "cell_type": "code",
   "execution_count": 2,
   "metadata": {
    "collapsed": true,
    "pycharm": {
     "is_executing": true,
     "name": "#%%\n"
    }
   },
   "outputs": [],
   "source": [
    "\n",
    "import imodels\n",
    "from sklearn.model_selection import train_test_split\n",
    "import pandas as pd\n",
    "import numpy as np\n",
    "from bartpy2.sklearnmodel import SklearnModel \n",
    "from sklearn.metrics import mean_squared_error\n",
    "from time import time\n",
    "from sklearn.model_selection import ParameterGrid\n",
    "from sklearn.preprocessing import MinMaxScaler\n",
    "from sklearn.ensemble import RandomForestRegressor\n"
   ]
  },
  {
   "cell_type": "code",
   "execution_count": 3,
   "metadata": {},
   "outputs": [],
   "source": [
    "X_bc, y_bc, feature_names = imodels.get_clean_dataset('breast_cancer', data_source='imodels')\n",
    "X_bc_train, X_bc_test, y_bc_train, y_bc_test = train_test_split(X_bc, y_bc, test_size=0.25, random_state=42)"
   ]
  },
  {
   "cell_type": "code",
   "execution_count": 4,
   "metadata": {},
   "outputs": [],
   "source": [
    "# from sklearn.model_selection import GridSearchCV\n",
    "\n",
    "# # Define the parameter grid\n",
    "# param_grid = {\n",
    "#     'n_trees': [10, 20, 50],\n",
    "#     'n_burn': [50, 100, 200],\n",
    "#     'n_samples': [100, 200, 500]\n",
    "# }\n",
    "\n",
    "# # Initialize the BART model\n",
    "# bart_model = SklearnModel()\n",
    "\n",
    "# # Create the GridSearchCV object\n",
    "# grid_search = GridSearchCV(bart_model, param_grid, cv=3, scoring='roc_auc')\n",
    "\n",
    "# # Fit GridSearchCV\n",
    "# grid_search.fit(X_bc_train, y_bc_train)\n",
    "\n",
    "# # Print the best parameters and the best score\n",
    "# print(\"Best parameters:\", grid_search.best_params_)\n",
    "# print(\"Best score:\", grid_search.best_score_) \n"
   ]
  },
  {
   "cell_type": "code",
   "execution_count": 5,
   "metadata": {},
   "outputs": [],
   "source": [
    "\n",
    "#scaler = MinMaxScaler(feature_range=(0, 1))\n",
    "\n",
    "# Define the parameter grid\n",
    "# param_grid = {\n",
    "#     'n_trees': [10, 20, 50],\n",
    "#     'n_burn': [50, 100, 200],\n",
    "#     'n_samples': [100, 200, 500]\n",
    "# }\n",
    "\n",
    "# # Initialize a list to store the results\n",
    "# results = []\n",
    "\n",
    "# # Iterate over each combination of parameters\n",
    "# for params in ParameterGrid(param_grid):\n",
    "#     # Initialize the BART model with current parameters\n",
    "#     bart_model = SklearnModel(n_trees=params['n_trees'], n_burn=params['n_burn'], n_samples=params['n_samples'])\n",
    "    \n",
    "#     # Start timing\n",
    "#     start_time = time()\n",
    "    \n",
    "#     # Fit the model\n",
    "#     bart_model.fit(X_bc_train, y_bc_train)\n",
    "    \n",
    "#     # Predict\n",
    "#     y_pred_proba = bart_model.predict(X_bc_test)\n",
    "#     #normalized_proba = scaler.fit_transform(y_pred_proba)\n",
    "#     y_pred = (y_pred_proba > 0.5).astype(int) \n",
    "\n",
    "    \n",
    "#     # Calculate F1 score\n",
    "#     mse = mean_squared_error(y_bc_test, y_pred)\n",
    "    \n",
    "    \n",
    "#     # Stop timing\n",
    "#     time_elapsed = time() - start_time\n",
    "    \n",
    "#     # Append the results to the list\n",
    "#     results.append({\n",
    "#         'n_trees': params['n_trees'],\n",
    "#         'n_burn': params['n_burn'],\n",
    "#         'n_samples': params['n_samples'],\n",
    "#         'time_elapsed': time_elapsed,\n",
    "#         'mse': mse\n",
    "#     })\n",
    "# results_bc = pd.DataFrame(results)"
   ]
  },
  {
   "cell_type": "code",
   "execution_count": 6,
   "metadata": {},
   "outputs": [],
   "source": [
    "# results_bc"
   ]
  },
  {
   "cell_type": "code",
   "execution_count": 7,
   "metadata": {},
   "outputs": [],
   "source": [
    "\n",
    "def get_model_score(X_train, y_train, X_test, y_test, model, metric):\n",
    "    model.fit(X_train, y_train)\n",
    "    preds_test_prob = model.predict(X_test)\n",
    "    #y_pred = (preds_test_prob > 0.5).astype(int) \n",
    "    score = metric(y_test, preds_test_prob)\n",
    "    return score\n",
    "\n",
    "def make_model(model_params_dict):\n",
    "    model =  SklearnModel(**model_params_dict)\n",
    "    return model\n",
    "\n",
    "def make_dgp(dataset_name):\n",
    "    X, y, feature_names = imodels.get_clean_dataset(dataset_name, data_source='imodels')\n",
    "    X_train, X_test, y_train, y_test = train_test_split(X, y, test_size=0.25, random_state=42)\n",
    "    return X_train, X_test, y_train,y_test"
   ]
  },
  {
   "cell_type": "code",
   "execution_count": 8,
   "metadata": {},
   "outputs": [],
   "source": [
    "## running one step of  simulation \n",
    "\n",
    "def run_one_dgp_iter(dataset_name, model_params_dict, metric=mean_squared_error\n",
    "                     ):\n",
    "    X_train, X_test, y_train,y_test = make_dgp(dataset_name)\n",
    "    results = []\n",
    "    \n",
    "    model = make_model(model_params_dict)\n",
    "    start_time = time()\n",
    "    score = get_model_score(X_train, y_train, X_test, y_test, model, metric)\n",
    "    time_elapsed = time() - start_time\n",
    "    results.append({\n",
    "        'dataset': dataset_name,\n",
    "        'n_trees': model_params_dict['n_trees'],\n",
    "        'sigma_a': model_params_dict['sigma_a'],\n",
    "        'sigma_b': model_params_dict['sigma_b'],\n",
    "        'time_elapsed': time_elapsed,\n",
    "        'mse': score\n",
    "            })\n",
    "    return results\n",
    "\n",
    "def one_comparsion(dataset_names, model_params_dict, metric=mean_squared_error\n",
    "                     ):\n",
    "    results = []\n",
    "    \n",
    "    for dataset_name in dataset_names:\n",
    "        X_train, X_test, y_train,y_test = make_dgp(dataset_name)\n",
    "    \n",
    "    # bart model\n",
    "        model = make_model(model_params_dict)\n",
    "        start_time = time()\n",
    "        score = get_model_score(X_train, y_train, X_test, y_test, model, metric)\n",
    "        time_elapsed = time() - start_time\n",
    "        results.append({\n",
    "            'dataset': dataset_name,\n",
    "            'method':'BART',\n",
    "            'n_trees': model_params_dict['n_trees'],\n",
    "            'sigma_a': model_params_dict['sigma_a'],\n",
    "            'sigma_b': model_params_dict['sigma_b'],\n",
    "            'time_elapsed': time_elapsed,\n",
    "            'mse': score\n",
    "        })\n",
    "    \n",
    "    #random forest part\n",
    "        modelr = RandomForestRegressor()\n",
    "        start_time_r = time()\n",
    "        score_r = get_model_score(X_train, y_train, X_test, y_test, modelr, metric)\n",
    "        time_elapsed_r = time() - start_time_r\n",
    "\n",
    "        results.append({\n",
    "            'dataset': dataset_name,\n",
    "            'method':'RandomForest',\n",
    "            'n_trees': model_params_dict['n_trees'],\n",
    "            'sigma_a': model_params_dict['sigma_a'],\n",
    "            'sigma_b': model_params_dict['sigma_b'],\n",
    "            'time_elapsed': time_elapsed_r,\n",
    "            'mse': score_r\n",
    "            })\n",
    "    #results = pd.DataFrame(results)\n",
    "    return results"
   ]
  },
  {
   "cell_type": "code",
   "execution_count": 9,
   "metadata": {},
   "outputs": [],
   "source": [
    "params = {'n_trees': 100,'sigma_a' : 0.5,\"sigma_b\" : 0.25}\n",
    "dataset_names=['breast_cancer','heart']"
   ]
  },
  {
   "cell_type": "code",
   "execution_count": 10,
   "metadata": {},
   "outputs": [
    {
     "name": "stdout",
     "output_type": "stream",
     "text": [
      "fetching heart from imodels\n"
     ]
    },
    {
     "data": {
      "text/plain": [
       "[{'dataset': 'breast_cancer',\n",
       "  'method': 'BART',\n",
       "  'n_trees': 100,\n",
       "  'sigma_a': 0.5,\n",
       "  'sigma_b': 0.25,\n",
       "  'time_elapsed': 12.406075716018677,\n",
       "  'mse': 0.1610143342884147},\n",
       " {'dataset': 'breast_cancer',\n",
       "  'method': 'RandomForest',\n",
       "  'n_trees': 100,\n",
       "  'sigma_a': 0.5,\n",
       "  'sigma_b': 0.25,\n",
       "  'time_elapsed': 0.10141468048095703,\n",
       "  'mse': 0.1640196292638484},\n",
       " {'dataset': 'heart',\n",
       "  'method': 'BART',\n",
       "  'n_trees': 100,\n",
       "  'sigma_a': 0.5,\n",
       "  'sigma_b': 0.25,\n",
       "  'time_elapsed': 10.88571810722351,\n",
       "  'mse': 0.11622961613821395},\n",
       " {'dataset': 'heart',\n",
       "  'method': 'RandomForest',\n",
       "  'n_trees': 100,\n",
       "  'sigma_a': 0.5,\n",
       "  'sigma_b': 0.25,\n",
       "  'time_elapsed': 0.12053608894348145,\n",
       "  'mse': 0.13922352941176475}]"
      ]
     },
     "execution_count": 10,
     "metadata": {},
     "output_type": "execute_result"
    }
   ],
   "source": [
    "one_comparsion(dataset_names=dataset_names,model_params_dict=params)"
   ]
  },
  {
   "cell_type": "code",
   "execution_count": 11,
   "metadata": {},
   "outputs": [
    {
     "name": "stderr",
     "output_type": "stream",
     "text": [
      "  0%|          | 0/5 [00:00<?, ?it/s]"
     ]
    },
    {
     "name": "stdout",
     "output_type": "stream",
     "text": [
      "fetching heart from imodels\n"
     ]
    },
    {
     "name": "stderr",
     "output_type": "stream",
     "text": [
      " 20%|██        | 1/5 [00:22<01:30, 22.69s/it]"
     ]
    },
    {
     "name": "stdout",
     "output_type": "stream",
     "text": [
      "fetching heart from imodels\n"
     ]
    },
    {
     "name": "stderr",
     "output_type": "stream",
     "text": [
      " 40%|████      | 2/5 [00:45<01:07, 22.50s/it]"
     ]
    },
    {
     "name": "stdout",
     "output_type": "stream",
     "text": [
      "fetching heart from imodels\n"
     ]
    },
    {
     "name": "stderr",
     "output_type": "stream",
     "text": [
      " 60%|██████    | 3/5 [01:07<00:44, 22.50s/it]"
     ]
    },
    {
     "name": "stdout",
     "output_type": "stream",
     "text": [
      "fetching heart from imodels\n"
     ]
    },
    {
     "name": "stderr",
     "output_type": "stream",
     "text": [
      " 80%|████████  | 4/5 [01:30<00:22, 22.53s/it]"
     ]
    },
    {
     "name": "stdout",
     "output_type": "stream",
     "text": [
      "fetching heart from imodels\n"
     ]
    },
    {
     "name": "stderr",
     "output_type": "stream",
     "text": [
      "100%|██████████| 5/5 [01:52<00:00, 22.56s/it]\n"
     ]
    }
   ],
   "source": [
    "from tqdm import tqdm\n",
    "n_iter = 5\n",
    "def bartpy2(dataset_names,dgp_params_dict_list_bartpy2, metric=mean_squared_error,\n",
    "         n_iter=n_iter):\n",
    "    results = []\n",
    "    for iter_num in tqdm(range(n_iter)):\n",
    "        results+= one_comparsion(dataset_names, dgp_params_dict_list_bartpy2)\n",
    "    result= pd.DataFrame(results)\n",
    "    return result\n",
    "\n",
    "result = bartpy2(dataset_names,params,n_iter)"
   ]
  },
  {
   "cell_type": "code",
   "execution_count": 12,
   "metadata": {},
   "outputs": [
    {
     "data": {
      "text/html": [
       "<div>\n",
       "<style scoped>\n",
       "    .dataframe tbody tr th:only-of-type {\n",
       "        vertical-align: middle;\n",
       "    }\n",
       "\n",
       "    .dataframe tbody tr th {\n",
       "        vertical-align: top;\n",
       "    }\n",
       "\n",
       "    .dataframe thead th {\n",
       "        text-align: right;\n",
       "    }\n",
       "</style>\n",
       "<table border=\"1\" class=\"dataframe\">\n",
       "  <thead>\n",
       "    <tr style=\"text-align: right;\">\n",
       "      <th></th>\n",
       "      <th>dataset</th>\n",
       "      <th>method</th>\n",
       "      <th>n_trees</th>\n",
       "      <th>sigma_a</th>\n",
       "      <th>sigma_b</th>\n",
       "      <th>time_elapsed</th>\n",
       "      <th>mse</th>\n",
       "    </tr>\n",
       "  </thead>\n",
       "  <tbody>\n",
       "    <tr>\n",
       "      <th>0</th>\n",
       "      <td>breast_cancer</td>\n",
       "      <td>BART</td>\n",
       "      <td>100</td>\n",
       "      <td>0.5</td>\n",
       "      <td>0.25</td>\n",
       "      <td>11.236999</td>\n",
       "      <td>0.161442</td>\n",
       "    </tr>\n",
       "    <tr>\n",
       "      <th>1</th>\n",
       "      <td>breast_cancer</td>\n",
       "      <td>RandomForest</td>\n",
       "      <td>100</td>\n",
       "      <td>0.5</td>\n",
       "      <td>0.25</td>\n",
       "      <td>0.100585</td>\n",
       "      <td>0.163093</td>\n",
       "    </tr>\n",
       "    <tr>\n",
       "      <th>2</th>\n",
       "      <td>heart</td>\n",
       "      <td>BART</td>\n",
       "      <td>100</td>\n",
       "      <td>0.5</td>\n",
       "      <td>0.25</td>\n",
       "      <td>11.041932</td>\n",
       "      <td>0.115713</td>\n",
       "    </tr>\n",
       "    <tr>\n",
       "      <th>3</th>\n",
       "      <td>heart</td>\n",
       "      <td>RandomForest</td>\n",
       "      <td>100</td>\n",
       "      <td>0.5</td>\n",
       "      <td>0.25</td>\n",
       "      <td>0.120712</td>\n",
       "      <td>0.132713</td>\n",
       "    </tr>\n",
       "    <tr>\n",
       "      <th>4</th>\n",
       "      <td>breast_cancer</td>\n",
       "      <td>BART</td>\n",
       "      <td>100</td>\n",
       "      <td>0.5</td>\n",
       "      <td>0.25</td>\n",
       "      <td>11.163678</td>\n",
       "      <td>0.158616</td>\n",
       "    </tr>\n",
       "    <tr>\n",
       "      <th>5</th>\n",
       "      <td>breast_cancer</td>\n",
       "      <td>RandomForest</td>\n",
       "      <td>100</td>\n",
       "      <td>0.5</td>\n",
       "      <td>0.25</td>\n",
       "      <td>0.104515</td>\n",
       "      <td>0.161562</td>\n",
       "    </tr>\n",
       "    <tr>\n",
       "      <th>6</th>\n",
       "      <td>heart</td>\n",
       "      <td>BART</td>\n",
       "      <td>100</td>\n",
       "      <td>0.5</td>\n",
       "      <td>0.25</td>\n",
       "      <td>10.816249</td>\n",
       "      <td>0.114955</td>\n",
       "    </tr>\n",
       "    <tr>\n",
       "      <th>7</th>\n",
       "      <td>heart</td>\n",
       "      <td>RandomForest</td>\n",
       "      <td>100</td>\n",
       "      <td>0.5</td>\n",
       "      <td>0.25</td>\n",
       "      <td>0.119689</td>\n",
       "      <td>0.142246</td>\n",
       "    </tr>\n",
       "    <tr>\n",
       "      <th>8</th>\n",
       "      <td>breast_cancer</td>\n",
       "      <td>BART</td>\n",
       "      <td>100</td>\n",
       "      <td>0.5</td>\n",
       "      <td>0.25</td>\n",
       "      <td>11.114329</td>\n",
       "      <td>0.158847</td>\n",
       "    </tr>\n",
       "    <tr>\n",
       "      <th>9</th>\n",
       "      <td>breast_cancer</td>\n",
       "      <td>RandomForest</td>\n",
       "      <td>100</td>\n",
       "      <td>0.5</td>\n",
       "      <td>0.25</td>\n",
       "      <td>0.097252</td>\n",
       "      <td>0.162397</td>\n",
       "    </tr>\n",
       "    <tr>\n",
       "      <th>10</th>\n",
       "      <td>heart</td>\n",
       "      <td>BART</td>\n",
       "      <td>100</td>\n",
       "      <td>0.5</td>\n",
       "      <td>0.25</td>\n",
       "      <td>10.975716</td>\n",
       "      <td>0.114911</td>\n",
       "    </tr>\n",
       "    <tr>\n",
       "      <th>11</th>\n",
       "      <td>heart</td>\n",
       "      <td>RandomForest</td>\n",
       "      <td>100</td>\n",
       "      <td>0.5</td>\n",
       "      <td>0.25</td>\n",
       "      <td>0.123610</td>\n",
       "      <td>0.145046</td>\n",
       "    </tr>\n",
       "    <tr>\n",
       "      <th>12</th>\n",
       "      <td>breast_cancer</td>\n",
       "      <td>BART</td>\n",
       "      <td>100</td>\n",
       "      <td>0.5</td>\n",
       "      <td>0.25</td>\n",
       "      <td>11.123696</td>\n",
       "      <td>0.159488</td>\n",
       "    </tr>\n",
       "    <tr>\n",
       "      <th>13</th>\n",
       "      <td>breast_cancer</td>\n",
       "      <td>RandomForest</td>\n",
       "      <td>100</td>\n",
       "      <td>0.5</td>\n",
       "      <td>0.25</td>\n",
       "      <td>0.096552</td>\n",
       "      <td>0.160995</td>\n",
       "    </tr>\n",
       "    <tr>\n",
       "      <th>14</th>\n",
       "      <td>heart</td>\n",
       "      <td>BART</td>\n",
       "      <td>100</td>\n",
       "      <td>0.5</td>\n",
       "      <td>0.25</td>\n",
       "      <td>11.043734</td>\n",
       "      <td>0.113195</td>\n",
       "    </tr>\n",
       "    <tr>\n",
       "      <th>15</th>\n",
       "      <td>heart</td>\n",
       "      <td>RandomForest</td>\n",
       "      <td>100</td>\n",
       "      <td>0.5</td>\n",
       "      <td>0.25</td>\n",
       "      <td>0.119409</td>\n",
       "      <td>0.138382</td>\n",
       "    </tr>\n",
       "    <tr>\n",
       "      <th>16</th>\n",
       "      <td>breast_cancer</td>\n",
       "      <td>BART</td>\n",
       "      <td>100</td>\n",
       "      <td>0.5</td>\n",
       "      <td>0.25</td>\n",
       "      <td>11.165892</td>\n",
       "      <td>0.160347</td>\n",
       "    </tr>\n",
       "    <tr>\n",
       "      <th>17</th>\n",
       "      <td>breast_cancer</td>\n",
       "      <td>RandomForest</td>\n",
       "      <td>100</td>\n",
       "      <td>0.5</td>\n",
       "      <td>0.25</td>\n",
       "      <td>0.101097</td>\n",
       "      <td>0.163259</td>\n",
       "    </tr>\n",
       "    <tr>\n",
       "      <th>18</th>\n",
       "      <td>heart</td>\n",
       "      <td>BART</td>\n",
       "      <td>100</td>\n",
       "      <td>0.5</td>\n",
       "      <td>0.25</td>\n",
       "      <td>11.113673</td>\n",
       "      <td>0.117139</td>\n",
       "    </tr>\n",
       "    <tr>\n",
       "      <th>19</th>\n",
       "      <td>heart</td>\n",
       "      <td>RandomForest</td>\n",
       "      <td>100</td>\n",
       "      <td>0.5</td>\n",
       "      <td>0.25</td>\n",
       "      <td>0.126584</td>\n",
       "      <td>0.148257</td>\n",
       "    </tr>\n",
       "  </tbody>\n",
       "</table>\n",
       "</div>"
      ],
      "text/plain": [
       "          dataset        method  n_trees  sigma_a  sigma_b  time_elapsed  \\\n",
       "0   breast_cancer          BART      100      0.5     0.25     11.236999   \n",
       "1   breast_cancer  RandomForest      100      0.5     0.25      0.100585   \n",
       "2           heart          BART      100      0.5     0.25     11.041932   \n",
       "3           heart  RandomForest      100      0.5     0.25      0.120712   \n",
       "4   breast_cancer          BART      100      0.5     0.25     11.163678   \n",
       "5   breast_cancer  RandomForest      100      0.5     0.25      0.104515   \n",
       "6           heart          BART      100      0.5     0.25     10.816249   \n",
       "7           heart  RandomForest      100      0.5     0.25      0.119689   \n",
       "8   breast_cancer          BART      100      0.5     0.25     11.114329   \n",
       "9   breast_cancer  RandomForest      100      0.5     0.25      0.097252   \n",
       "10          heart          BART      100      0.5     0.25     10.975716   \n",
       "11          heart  RandomForest      100      0.5     0.25      0.123610   \n",
       "12  breast_cancer          BART      100      0.5     0.25     11.123696   \n",
       "13  breast_cancer  RandomForest      100      0.5     0.25      0.096552   \n",
       "14          heart          BART      100      0.5     0.25     11.043734   \n",
       "15          heart  RandomForest      100      0.5     0.25      0.119409   \n",
       "16  breast_cancer          BART      100      0.5     0.25     11.165892   \n",
       "17  breast_cancer  RandomForest      100      0.5     0.25      0.101097   \n",
       "18          heart          BART      100      0.5     0.25     11.113673   \n",
       "19          heart  RandomForest      100      0.5     0.25      0.126584   \n",
       "\n",
       "         mse  \n",
       "0   0.161442  \n",
       "1   0.163093  \n",
       "2   0.115713  \n",
       "3   0.132713  \n",
       "4   0.158616  \n",
       "5   0.161562  \n",
       "6   0.114955  \n",
       "7   0.142246  \n",
       "8   0.158847  \n",
       "9   0.162397  \n",
       "10  0.114911  \n",
       "11  0.145046  \n",
       "12  0.159488  \n",
       "13  0.160995  \n",
       "14  0.113195  \n",
       "15  0.138382  \n",
       "16  0.160347  \n",
       "17  0.163259  \n",
       "18  0.117139  \n",
       "19  0.148257  "
      ]
     },
     "execution_count": 12,
     "metadata": {},
     "output_type": "execute_result"
    }
   ],
   "source": [
    "result"
   ]
  },
  {
   "cell_type": "code",
   "execution_count": 51,
   "metadata": {},
   "outputs": [
    {
     "data": {
      "text/plain": [
       "0             BARTbreast_cancer\n",
       "1     RandomForestbreast_cancer\n",
       "2                     BARTheart\n",
       "3             RandomForestheart\n",
       "4             BARTbreast_cancer\n",
       "5     RandomForestbreast_cancer\n",
       "6                     BARTheart\n",
       "7             RandomForestheart\n",
       "8             BARTbreast_cancer\n",
       "9     RandomForestbreast_cancer\n",
       "10                    BARTheart\n",
       "11            RandomForestheart\n",
       "12            BARTbreast_cancer\n",
       "13    RandomForestbreast_cancer\n",
       "14                    BARTheart\n",
       "15            RandomForestheart\n",
       "16            BARTbreast_cancer\n",
       "17    RandomForestbreast_cancer\n",
       "18                    BARTheart\n",
       "19            RandomForestheart\n",
       "Name: Combined, dtype: object"
      ]
     },
     "execution_count": 51,
     "metadata": {},
     "output_type": "execute_result"
    }
   ],
   "source": []
  },
  {
   "cell_type": "code",
   "execution_count": 53,
   "metadata": {},
   "outputs": [
    {
     "data": {
      "text/plain": [
       "Combined\n",
       "BARTbreast_cancer            0.159748\n",
       "BARTheart                    0.115182\n",
       "RandomForestbreast_cancer    0.162261\n",
       "RandomForestheart            0.141329\n",
       "Name: mse, dtype: float64"
      ]
     },
     "execution_count": 53,
     "metadata": {},
     "output_type": "execute_result"
    }
   ],
   "source": [
    "result['Combined'] = result['method'] + result['dataset']\n",
    "grouped = result.groupby('Combined')\n",
    "grouped['mse'].mean()\n",
    "#grouped['time_elapsed'].std()\n"
   ]
  },
  {
   "cell_type": "code",
   "execution_count": 77,
   "metadata": {},
   "outputs": [
    {
     "data": {
      "text/html": [
       "<div>\n",
       "<style scoped>\n",
       "    .dataframe tbody tr th:only-of-type {\n",
       "        vertical-align: middle;\n",
       "    }\n",
       "\n",
       "    .dataframe tbody tr th {\n",
       "        vertical-align: top;\n",
       "    }\n",
       "\n",
       "    .dataframe thead th {\n",
       "        text-align: right;\n",
       "    }\n",
       "</style>\n",
       "<table border=\"1\" class=\"dataframe\">\n",
       "  <thead>\n",
       "    <tr style=\"text-align: right;\">\n",
       "      <th></th>\n",
       "      <th>mse</th>\n",
       "    </tr>\n",
       "    <tr>\n",
       "      <th>Combined</th>\n",
       "      <th></th>\n",
       "    </tr>\n",
       "  </thead>\n",
       "  <tbody>\n",
       "  </tbody>\n",
       "</table>\n",
       "</div>"
      ],
      "text/plain": [
       "Empty DataFrame\n",
       "Columns: [mse]\n",
       "Index: []"
      ]
     },
     "execution_count": 77,
     "metadata": {},
     "output_type": "execute_result"
    }
   ],
   "source": [
    "pd.DataFrame(grouped['mse'].mean()).iloc[5:].iloc[:0]"
   ]
  },
  {
   "cell_type": "code",
   "execution_count": 78,
   "metadata": {},
   "outputs": [
    {
     "data": {
      "text/html": [
       "<div>\n",
       "<style scoped>\n",
       "    .dataframe tbody tr th:only-of-type {\n",
       "        vertical-align: middle;\n",
       "    }\n",
       "\n",
       "    .dataframe tbody tr th {\n",
       "        vertical-align: top;\n",
       "    }\n",
       "\n",
       "    .dataframe thead th {\n",
       "        text-align: right;\n",
       "    }\n",
       "</style>\n",
       "<table border=\"1\" class=\"dataframe\">\n",
       "  <thead>\n",
       "    <tr style=\"text-align: right;\">\n",
       "      <th></th>\n",
       "      <th>Mean_MSE</th>\n",
       "      <th>Mean_time</th>\n",
       "      <th>SD_MSE</th>\n",
       "      <th>SD_time</th>\n",
       "    </tr>\n",
       "    <tr>\n",
       "      <th>Combined</th>\n",
       "      <th></th>\n",
       "      <th></th>\n",
       "      <th></th>\n",
       "      <th></th>\n",
       "    </tr>\n",
       "  </thead>\n",
       "  <tbody>\n",
       "    <tr>\n",
       "      <th>BARTbreast_cancer</th>\n",
       "      <td>0.159748</td>\n",
       "      <td>11.160919</td>\n",
       "      <td>0.001161</td>\n",
       "      <td>0.048417</td>\n",
       "    </tr>\n",
       "    <tr>\n",
       "      <th>BARTheart</th>\n",
       "      <td>0.115182</td>\n",
       "      <td>10.998261</td>\n",
       "      <td>0.001431</td>\n",
       "      <td>0.112840</td>\n",
       "    </tr>\n",
       "    <tr>\n",
       "      <th>RandomForestbreast_cancer</th>\n",
       "      <td>0.162261</td>\n",
       "      <td>0.100000</td>\n",
       "      <td>0.000975</td>\n",
       "      <td>0.003216</td>\n",
       "    </tr>\n",
       "    <tr>\n",
       "      <th>RandomForestheart</th>\n",
       "      <td>0.141329</td>\n",
       "      <td>0.122001</td>\n",
       "      <td>0.006033</td>\n",
       "      <td>0.003055</td>\n",
       "    </tr>\n",
       "  </tbody>\n",
       "</table>\n",
       "</div>"
      ],
      "text/plain": [
       "                           Mean_MSE  Mean_time    SD_MSE   SD_time\n",
       "Combined                                                          \n",
       "BARTbreast_cancer          0.159748  11.160919  0.001161  0.048417\n",
       "BARTheart                  0.115182  10.998261  0.001431  0.112840\n",
       "RandomForestbreast_cancer  0.162261   0.100000  0.000975  0.003216\n",
       "RandomForestheart          0.141329   0.122001  0.006033  0.003055"
      ]
     },
     "execution_count": 78,
     "metadata": {},
     "output_type": "execute_result"
    }
   ],
   "source": [
    "a=pd.DataFrame(grouped)\n",
    "\n",
    "stats_df = pd.DataFrame({\n",
    "    #'combined':a[0],\n",
    "    'Mean_MSE':grouped['mse'].mean(),\n",
    "    'Mean_time':grouped['time_elapsed'].mean(),\n",
    "    'SD_MSE':grouped['mse'].std(),\n",
    "    'SD_time':grouped['time_elapsed'].std()\n",
    "})\n",
    "stats_df\n"
   ]
  },
  {
   "cell_type": "code",
   "execution_count": 83,
   "metadata": {},
   "outputs": [
    {
     "name": "stdout",
     "output_type": "stream",
     "text": [
      "['BARTbreast_cancer', 'BARTheart', 'RandomForestbreast_cancer', 'RandomForestheart']\n"
     ]
    }
   ],
   "source": [
    "print(stats_df.index.tolist())"
   ]
  },
  {
   "cell_type": "code",
   "execution_count": 91,
   "metadata": {},
   "outputs": [
    {
     "data": {
      "image/png": "[encoded data removed]",
      "text/plain": [
       "<Figure size 640x480 with 1 Axes>"
      ]
     },
     "metadata": {},
     "output_type": "display_data"
    }
   ],
   "source": [
    "import matplotlib.pyplot as plt\n",
    "\n",
    "#plt.figure(figsize=(8, 4))  # Optional, to adjust figure size\n",
    "plt.bar(stats_df.index,stats_df['Mean_MSE'])  # You can customize color\n",
    "plt.xlabel('method')\n",
    "plt.ylabel('MSE')\n",
    "plt.xticks(rotation=45,fontsize=7)\n",
    "plt.show()\n"
   ]
  },
  {
   "cell_type": "code",
   "execution_count": 89,
   "metadata": {},
   "outputs": [
    {
     "data": {
      "image/png": "[encoded data removed]",
      "text/plain": [
       "<Figure size 640x480 with 1 Axes>"
      ]
     },
     "metadata": {},
     "output_type": "display_data"
    }
   ],
   "source": [
    "plt.bar(stats_df.index,stats_df['Mean_time'])  # You can customize color\n",
    "plt.xlabel('method')\n",
    "plt.ylabel('time')\n",
    "plt.xticks(rotation=45,fontsize=7)\n",
    "plt.show()\n"
   ]
  }
 ],
 "metadata": {
  "kernelspec": {
   "display_name": "Python 3",
   "language": "python",
   "name": "python3"
  },
  "language_info": {
   "codemirror_mode": {
    "name": "ipython",
    "version": 3
   },
   "file_extension": ".py",
   "mimetype": "text/x-python",
   "name": "python",
   "nbconvert_exporter": "python",
   "pygments_lexer": "ipython3",
   "version": "3.8.19"
  }
 },
 "nbformat": 4,
 "nbformat_minor": 0
}
