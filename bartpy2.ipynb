{
 "cells": [
  {
   "cell_type": "code",
   "execution_count": 33,
   "metadata": {
    "collapsed": true,
    "pycharm": {
     "is_executing": true,
     "name": "#%%\n"
    }
   },
   "outputs": [],
   "source": [
    "\n",
    "import imodels\n",
    "from sklearn.model_selection import train_test_split\n",
    "import pandas as pd\n",
    "import numpy as np\n",
    "from bartpy2.sklearnmodel import SklearnModel \n",
    "from sklearn.metrics import mean_squared_error\n",
    "from time import time\n",
    "from sklearn.model_selection import ParameterGrid\n",
    "from sklearn.preprocessing import MinMaxScaler\n",
    "\n"
   ]
  },
  {
   "cell_type": "code",
   "execution_count": 34,
   "metadata": {},
   "outputs": [],
   "source": [
    "X_bc, y_bc, feature_names = imodels.get_clean_dataset('breast_cancer', data_source='imodels')\n",
    "X_bc_train, X_bc_test, y_bc_train, y_bc_test = train_test_split(X_bc, y_bc, test_size=0.25, random_state=42)"
   ]
  },
  {
   "cell_type": "code",
   "execution_count": 35,
   "metadata": {},
   "outputs": [],
   "source": [
    "# from sklearn.model_selection import GridSearchCV\n",
    "\n",
    "# # Define the parameter grid\n",
    "# param_grid = {\n",
    "#     'n_trees': [10, 20, 50],\n",
    "#     'n_burn': [50, 100, 200],\n",
    "#     'n_samples': [100, 200, 500]\n",
    "# }\n",
    "\n",
    "# # Initialize the BART model\n",
    "# bart_model = SklearnModel()\n",
    "\n",
    "# # Create the GridSearchCV object\n",
    "# grid_search = GridSearchCV(bart_model, param_grid, cv=3, scoring='roc_auc')\n",
    "\n",
    "# # Fit GridSearchCV\n",
    "# grid_search.fit(X_bc_train, y_bc_train)\n",
    "\n",
    "# # Print the best parameters and the best score\n",
    "# print(\"Best parameters:\", grid_search.best_params_)\n",
    "# print(\"Best score:\", grid_search.best_score_) \n"
   ]
  },
  {
   "cell_type": "code",
   "execution_count": 36,
   "metadata": {},
   "outputs": [],
   "source": [
    "\n",
    "#scaler = MinMaxScaler(feature_range=(0, 1))\n",
    "\n",
    "# Define the parameter grid\n",
    "# param_grid = {\n",
    "#     'n_trees': [10, 20, 50],\n",
    "#     'n_burn': [50, 100, 200],\n",
    "#     'n_samples': [100, 200, 500]\n",
    "# }\n",
    "\n",
    "# # Initialize a list to store the results\n",
    "# results = []\n",
    "\n",
    "# # Iterate over each combination of parameters\n",
    "# for params in ParameterGrid(param_grid):\n",
    "#     # Initialize the BART model with current parameters\n",
    "#     bart_model = SklearnModel(n_trees=params['n_trees'], n_burn=params['n_burn'], n_samples=params['n_samples'])\n",
    "    \n",
    "#     # Start timing\n",
    "#     start_time = time()\n",
    "    \n",
    "#     # Fit the model\n",
    "#     bart_model.fit(X_bc_train, y_bc_train)\n",
    "    \n",
    "#     # Predict\n",
    "#     y_pred_proba = bart_model.predict(X_bc_test)\n",
    "#     #normalized_proba = scaler.fit_transform(y_pred_proba)\n",
    "#     y_pred = (y_pred_proba > 0.5).astype(int) \n",
    "\n",
    "    \n",
    "#     # Calculate F1 score\n",
    "#     mse = mean_squared_error(y_bc_test, y_pred)\n",
    "    \n",
    "    \n",
    "#     # Stop timing\n",
    "#     time_elapsed = time() - start_time\n",
    "    \n",
    "#     # Append the results to the list\n",
    "#     results.append({\n",
    "#         'n_trees': params['n_trees'],\n",
    "#         'n_burn': params['n_burn'],\n",
    "#         'n_samples': params['n_samples'],\n",
    "#         'time_elapsed': time_elapsed,\n",
    "#         'mse': mse\n",
    "#     })\n",
    "# results_bc = pd.DataFrame(results)"
   ]
  },
  {
   "cell_type": "code",
   "execution_count": 37,
   "metadata": {},
   "outputs": [],
   "source": [
    "# results_bc"
   ]
  },
  {
   "cell_type": "code",
   "execution_count": 38,
   "metadata": {},
   "outputs": [],
   "source": [
    "\n",
    "def get_model_score(X_train, y_train, X_test, y_test, model, metric):\n",
    "    model.fit(X_train, y_train)\n",
    "    preds_test_prob = model.predict(X_test)\n",
    "    #y_pred = (preds_test_prob > 0.5).astype(int) \n",
    "    score = metric(y_test, preds_test_prob)\n",
    "    return score\n",
    "\n",
    "def make_model(model_params_dict):\n",
    "    model =  SklearnModel(**model_params_dict)\n",
    "    return model\n",
    "\n",
    "def make_dgp(dataset_name):\n",
    "    X, y, feature_names = imodels.get_clean_dataset(dataset_name, data_source='imodels')\n",
    "    X_train, X_test, y_train, y_test = train_test_split(X, y, test_size=0.25, random_state=42)\n",
    "    return X_train, X_test, y_train,y_test"
   ]
  },
  {
   "cell_type": "code",
   "execution_count": 39,
   "metadata": {},
   "outputs": [],
   "source": [
    "def run_one_dgp_iter(dataset_name, model_params_dict, metric=mean_squared_error\n",
    "                     ):\n",
    "    X_train, X_test, y_train,y_test = make_dgp(dataset_name)\n",
    "    results = []\n",
    "    \n",
    "    model = make_model(model_params_dict)\n",
    "    start_time = time()\n",
    "    score = get_model_score(X_train, y_train, X_test, y_test, model, metric)\n",
    "    time_elapsed = time() - start_time\n",
    "    results.append({\n",
    "        'dataset': dataset_name,\n",
    "        'n_trees': model_params_dict['n_trees'],\n",
    "        'sigma_a': model_params_dict['sigma_a'],\n",
    "        'sigma_b': model_params_dict['sigma_b'],\n",
    "        'time_elapsed': time_elapsed,\n",
    "        'mse': score\n",
    "            })\n",
    "    return results"
   ]
  },
  {
   "cell_type": "code",
   "execution_count": 40,
   "metadata": {},
   "outputs": [],
   "source": [
    "params = {'n_trees': 50,'sigma_a' : 0.5,\"sigma_b\" : 0.2}"
   ]
  },
  {
   "cell_type": "code",
   "execution_count": 41,
   "metadata": {},
   "outputs": [
    {
     "data": {
      "text/plain": [
       "[{'dataset': 'breast_cancer',\n",
       "  'n_trees': 50,\n",
       "  'sigma_a': 0.5,\n",
       "  'sigma_b': 0.2,\n",
       "  'time_elapsed': 6.179091215133667,\n",
       "  'mse': 0.15749812177607034}]"
      ]
     },
     "execution_count": 41,
     "metadata": {},
     "output_type": "execute_result"
    }
   ],
   "source": [
    "run_one_dgp_iter(dataset_name='breast_cancer',model_params_dict=params)"
   ]
  },
  {
   "cell_type": "code",
   "execution_count": 43,
   "metadata": {},
   "outputs": [
    {
     "name": "stderr",
     "output_type": "stream",
     "text": [
      "100%|██████████| 5/5 [00:29<00:00,  5.99s/it]\n"
     ]
    }
   ],
   "source": [
    "from tqdm import tqdm\n",
    "n_iter = 5\n",
    "def bartpy2(dataset_name,dgp_params_dict_list_bartpy2, metric=mean_squared_error,\n",
    "         n_iter=n_iter):\n",
    "    results = []\n",
    "    for iter_num in tqdm(range(n_iter)):\n",
    "        results+= run_one_dgp_iter(dataset_name, dgp_params_dict_list_bartpy2)\n",
    "    result= pd.DataFrame(results)\n",
    "    return result\n",
    "\n",
    "result = bartpy2('breast_cancer',params,n_iter)"
   ]
  },
  {
   "cell_type": "code",
   "execution_count": 47,
   "metadata": {},
   "outputs": [
    {
     "data": {
      "text/html": [
       "<div>\n",
       "<style scoped>\n",
       "    .dataframe tbody tr th:only-of-type {\n",
       "        vertical-align: middle;\n",
       "    }\n",
       "\n",
       "    .dataframe tbody tr th {\n",
       "        vertical-align: top;\n",
       "    }\n",
       "\n",
       "    .dataframe thead th {\n",
       "        text-align: right;\n",
       "    }\n",
       "</style>\n",
       "<table border=\"1\" class=\"dataframe\">\n",
       "  <thead>\n",
       "    <tr style=\"text-align: right;\">\n",
       "      <th></th>\n",
       "      <th>dataset</th>\n",
       "      <th>n_trees</th>\n",
       "      <th>sigma_a</th>\n",
       "      <th>sigma_b</th>\n",
       "      <th>time_elapsed</th>\n",
       "      <th>mse</th>\n",
       "    </tr>\n",
       "  </thead>\n",
       "  <tbody>\n",
       "    <tr>\n",
       "      <th>0</th>\n",
       "      <td>breast_cancer</td>\n",
       "      <td>50</td>\n",
       "      <td>0.5</td>\n",
       "      <td>0.2</td>\n",
       "      <td>6.063980</td>\n",
       "      <td>0.157723</td>\n",
       "    </tr>\n",
       "    <tr>\n",
       "      <th>1</th>\n",
       "      <td>breast_cancer</td>\n",
       "      <td>50</td>\n",
       "      <td>0.5</td>\n",
       "      <td>0.2</td>\n",
       "      <td>6.003208</td>\n",
       "      <td>0.159391</td>\n",
       "    </tr>\n",
       "    <tr>\n",
       "      <th>2</th>\n",
       "      <td>breast_cancer</td>\n",
       "      <td>50</td>\n",
       "      <td>0.5</td>\n",
       "      <td>0.2</td>\n",
       "      <td>5.873144</td>\n",
       "      <td>0.158899</td>\n",
       "    </tr>\n",
       "    <tr>\n",
       "      <th>3</th>\n",
       "      <td>breast_cancer</td>\n",
       "      <td>50</td>\n",
       "      <td>0.5</td>\n",
       "      <td>0.2</td>\n",
       "      <td>5.841604</td>\n",
       "      <td>0.161710</td>\n",
       "    </tr>\n",
       "    <tr>\n",
       "      <th>4</th>\n",
       "      <td>breast_cancer</td>\n",
       "      <td>50</td>\n",
       "      <td>0.5</td>\n",
       "      <td>0.2</td>\n",
       "      <td>5.881692</td>\n",
       "      <td>0.157872</td>\n",
       "    </tr>\n",
       "  </tbody>\n",
       "</table>\n",
       "</div>"
      ],
      "text/plain": [
       "         dataset  n_trees  sigma_a  sigma_b  time_elapsed       mse\n",
       "0  breast_cancer       50      0.5      0.2      6.063980  0.157723\n",
       "1  breast_cancer       50      0.5      0.2      6.003208  0.159391\n",
       "2  breast_cancer       50      0.5      0.2      5.873144  0.158899\n",
       "3  breast_cancer       50      0.5      0.2      5.841604  0.161710\n",
       "4  breast_cancer       50      0.5      0.2      5.881692  0.157872"
      ]
     },
     "execution_count": 47,
     "metadata": {},
     "output_type": "execute_result"
    }
   ],
   "source": [
    "result"
   ]
  },
  {
   "cell_type": "code",
   "execution_count": 66,
   "metadata": {},
   "outputs": [],
   "source": [
    "mean_time = result['time_elapsed'].mean()\n",
    "sd_time = result['time_elapsed'].std()\n",
    "mean_mse = result['mse'].mean()\n",
    "sd_mse = result['mse'].std()\n",
    "\n",
    "\n"
   ]
  },
  {
   "cell_type": "code",
   "execution_count": 72,
   "metadata": {},
   "outputs": [
    {
     "data": {
      "text/html": [
       "<div>\n",
       "<style scoped>\n",
       "    .dataframe tbody tr th:only-of-type {\n",
       "        vertical-align: middle;\n",
       "    }\n",
       "\n",
       "    .dataframe tbody tr th {\n",
       "        vertical-align: top;\n",
       "    }\n",
       "\n",
       "    .dataframe thead th {\n",
       "        text-align: right;\n",
       "    }\n",
       "</style>\n",
       "<table border=\"1\" class=\"dataframe\">\n",
       "  <thead>\n",
       "    <tr style=\"text-align: right;\">\n",
       "      <th></th>\n",
       "      <th>dataset</th>\n",
       "      <th>Mean_time</th>\n",
       "      <th>SD_time</th>\n",
       "      <th>Mean_MSE</th>\n",
       "      <th>SD_MSE</th>\n",
       "    </tr>\n",
       "  </thead>\n",
       "  <tbody>\n",
       "    <tr>\n",
       "      <th>0</th>\n",
       "      <td>breast_cancer</td>\n",
       "      <td>5.932726</td>\n",
       "      <td>0.095725</td>\n",
       "      <td>0.159119</td>\n",
       "      <td>0.001608</td>\n",
       "    </tr>\n",
       "  </tbody>\n",
       "</table>\n",
       "</div>"
      ],
      "text/plain": [
       "         dataset  Mean_time   SD_time  Mean_MSE    SD_MSE\n",
       "0  breast_cancer   5.932726  0.095725  0.159119  0.001608"
      ]
     },
     "execution_count": 72,
     "metadata": {},
     "output_type": "execute_result"
    }
   ],
   "source": [
    "stats_df = pd.DataFrame({\n",
    "    'dataset':result['dataset'].drop_duplicates(),\n",
    "    'Mean_time':mean_time,\n",
    "    'SD_time':sd_time,\n",
    "    'Mean_MSE':mean_mse,\n",
    "    'SD_MSE':sd_mse\n",
    "})\n",
    "stats_df"
   ]
  }
 ],
 "metadata": {
  "kernelspec": {
   "display_name": "Python 3",
   "language": "python",
   "name": "python3"
  },
  "language_info": {
   "codemirror_mode": {
    "name": "ipython",
    "version": 3
   },
   "file_extension": ".py",
   "mimetype": "text/x-python",
   "name": "python",
   "nbconvert_exporter": "python",
   "pygments_lexer": "ipython3",
   "version": "3.8.19"
  }
 },
 "nbformat": 4,
 "nbformat_minor": 0
}
